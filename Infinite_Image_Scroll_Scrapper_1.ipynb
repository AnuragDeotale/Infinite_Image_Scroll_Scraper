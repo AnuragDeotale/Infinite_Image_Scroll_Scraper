{
 "cells": [
  {
   "cell_type": "code",
   "execution_count": 21,
   "id": "21ded4be-d4d2-4d6a-95dd-e965e274d66e",
   "metadata": {},
   "outputs": [
    {
     "name": "stderr",
     "output_type": "stream",
     "text": [
      "100%|██████████████████████████████████████████████████████████████████████████████████████████████████████████████████| 5000/5000 [08:56<00:00,  9.32it/s]\n"
     ]
    }
   ],
   "source": [
    "#Importing Libraries.\n",
    "import time\n",
    "import requests\n",
    "import pandas as pd\n",
    "from tqdm import tqdm \n",
    "\n",
    "from bs4 import BeautifulSoup\n",
    "from selenium import webdriver\n",
    "\n",
    "# Selenium\n",
    "browser = webdriver.Chrome()\n",
    "browser.get('https://stockmages.netlify.app')\n",
    "\n",
    "#Now the main point of concern is what should be the stop and for the for loop. The start should be 0.\n",
    "#Finding the stop is a manual process. We should use a random number for stops and see how much scrolling takes place. If it doesn’t scroll to the bottom, we have to increase the value of the stop. \n",
    "#Infinite Scroll to reach the bottom \n",
    "for i in tqdm(range(0,5000000,1000)):\n",
    "    browser.execute_script(\"window.scrollTo(0,\"  + str(i) + \")\")\n",
    "    time.sleep(.1)\n",
    "#Using this much range will lead ypu to the bottom of the path"
   ]
  },
  {
   "cell_type": "code",
   "execution_count": 29,
   "id": "ef284422-5961-45a6-ae98-dfbb0f153c2f",
   "metadata": {},
   "outputs": [
    {
     "name": "stderr",
     "output_type": "stream",
     "text": [
      "100%|█████████████████████████████████████████████████████████████████████████████████████████████████████████████████| 481/481 [00:00<00:00, 13143.49it/s]\n"
     ]
    }
   ],
   "source": [
    "# Scraping the Page\n",
    "soup = BeautifulSoup(browser.page_source,'html.parser')\n",
    "\n",
    "#Scraping the Image Details\n",
    "data = []\n",
    "for sp in tqdm(soup.find_all('div', class_ = 'container')):\n",
    "    img_link = sp.find('img').get('src')\n",
    "    tags     = sp.find('span', class_ = 'tag-color').text[7:].strip()\n",
    "    likes    = int(sp.find('div', class_ = 'likes-comments').find_all('span')[0].text.strip()[:-6])\n",
    "    comments = int(sp.find('div', class_ = 'likes-comments').find_all('span')[1].text.strip()[:-9]) \n",
    "    data.append([img_link, tags, likes, comments])\n",
    "\n",
    "#Creating a dataframe and saving it\n",
    "df = pd.DataFrame(data, columns = ['img_link', 'tags', 'likes', 'comments'])\n",
    "df.to_csv('images.csv', index = False)"
   ]
  },
  {
   "cell_type": "code",
   "execution_count": null,
   "id": "cca2f512-91f5-4e10-9cfe-d0bd2a5f9fa9",
   "metadata": {},
   "outputs": [],
   "source": []
  },
  {
   "cell_type": "code",
   "execution_count": null,
   "id": "9eaf1a47-6f5e-414b-9e25-57552018b6b9",
   "metadata": {},
   "outputs": [],
   "source": []
  }
 ],
 "metadata": {
  "kernelspec": {
   "display_name": "Python 3 (ipykernel)",
   "language": "python",
   "name": "python3"
  },
  "language_info": {
   "codemirror_mode": {
    "name": "ipython",
    "version": 3
   },
   "file_extension": ".py",
   "mimetype": "text/x-python",
   "name": "python",
   "nbconvert_exporter": "python",
   "pygments_lexer": "ipython3",
   "version": "3.12.4"
  }
 },
 "nbformat": 4,
 "nbformat_minor": 5
}
