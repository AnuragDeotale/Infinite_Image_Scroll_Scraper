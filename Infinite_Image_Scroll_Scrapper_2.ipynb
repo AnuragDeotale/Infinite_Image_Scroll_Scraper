{
 "cells": [
  {
   "cell_type": "code",
   "execution_count": 44,
   "id": "059e0462-fae7-4be2-8a4c-c8382e37c38a",
   "metadata": {},
   "outputs": [
    {
     "name": "stderr",
     "output_type": "stream",
     "text": [
      "100%|████████████████████████████████████████████████████████████████████████████████████████████████████████████████████| 481/481 [02:04<00:00,  3.85it/s]\n"
     ]
    }
   ],
   "source": [
    "from tqdm import tqdm\n",
    "import pandas as pd\n",
    "df=pd.read_csv('images.csv')\n",
    "import requests\n",
    "def download(link,img_path):\n",
    "    res=requests.get(link)\n",
    "    fd=open(img_path,'wb')\n",
    "    fd.write(res.content)\n",
    "    fd.close()\n",
    "\n",
    "paths=[]\n",
    "img_ids=[]\n",
    "ref=100000\n",
    "i=1\n",
    "\n",
    "for link in tqdm(df['img_link']):\n",
    "    img_id='A'+str(i+ref)[1:]\n",
    "    i+=1\n",
    "    img_path='Imgs/'+img_id+'.jpg'\n",
    "    download(link,img_path)\n",
    "    paths.append(img_path)\n",
    "    img_ids.append(img_id)\n",
    "\n",
    "df['img_id']=img_ids\n",
    "df['img_path']=paths\n",
    "df.to_csv('imgs.csv',index=False)"
   ]
  },
  {
   "cell_type": "code",
   "execution_count": null,
   "id": "a09e9d65-3c8b-4ab2-b257-f433710b2aee",
   "metadata": {},
   "outputs": [],
   "source": []
  }
 ],
 "metadata": {
  "kernelspec": {
   "display_name": "Python 3 (ipykernel)",
   "language": "python",
   "name": "python3"
  },
  "language_info": {
   "codemirror_mode": {
    "name": "ipython",
    "version": 3
   },
   "file_extension": ".py",
   "mimetype": "text/x-python",
   "name": "python",
   "nbconvert_exporter": "python",
   "pygments_lexer": "ipython3",
   "version": "3.12.4"
  }
 },
 "nbformat": 4,
 "nbformat_minor": 5
}
